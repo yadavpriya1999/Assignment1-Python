{
 "cells": [
  {
   "cell_type": "markdown",
   "id": "27e4c447",
   "metadata": {},
   "source": [
    "#  Python Basics Variable\n",
    "\n",
    "\n",
    "\n",
    "\n",
    "\n",
    "\n"
   ]
  },
  {
   "cell_type": "markdown",
   "id": "c0292ea7",
   "metadata": {},
   "source": [
    "1. Declare two variables, `x` and `y`, and assign them integer values. Swap the\n",
    "values of these variables without using any temporary variable.\n",
    "\n"
   ]
  },
  {
   "cell_type": "code",
   "execution_count": 16,
   "id": "e89d3623",
   "metadata": {},
   "outputs": [
    {
     "name": "stdout",
     "output_type": "stream",
     "text": [
      "X : 20\n",
      "Y : 10\n"
     ]
    }
   ],
   "source": [
    "#Method-1\n",
    "x=10\n",
    "y=20\n",
    "x,y=y,x\n",
    "print('X :',x)\n",
    "print('Y :',y)\n",
    "\n",
    "\n"
   ]
  },
  {
   "cell_type": "code",
   "execution_count": 17,
   "id": "f6a857bf",
   "metadata": {},
   "outputs": [
    {
     "name": "stdout",
     "output_type": "stream",
     "text": [
      "X : 20\n",
      "Y : 10\n"
     ]
    }
   ],
   "source": [
    "#Method-2: Addition Substraction\n",
    "x=10\n",
    "y=20\n",
    "x=x+y\n",
    "y=x-y\n",
    "x=x-y\n",
    "print('X :',x)\n",
    "print('Y :',y)\n"
   ]
  },
  {
   "cell_type": "code",
   "execution_count": 18,
   "id": "8ab50c63",
   "metadata": {},
   "outputs": [
    {
     "name": "stdout",
     "output_type": "stream",
     "text": [
      "X : 20.0\n",
      "Y : 10.0\n"
     ]
    }
   ],
   "source": [
    "### Method-3: Multiplication Division\n",
    "x=10\n",
    "y=20\n",
    "x=x*y\n",
    "y=x/y\n",
    "x=x/y\n",
    "print('X :',x)\n",
    "print('Y :',y)\n"
   ]
  },
  {
   "cell_type": "code",
   "execution_count": 19,
   "id": "7093671e",
   "metadata": {},
   "outputs": [
    {
     "name": "stdout",
     "output_type": "stream",
     "text": [
      "X : 20\n",
      "Y : 10\n"
     ]
    }
   ],
   "source": [
    "#### Method-4: XOR \n",
    "x=10\n",
    "y=20\n",
    "x=x^y\n",
    "y=x^y\n",
    "x=x^y\n",
    "print('X :',x)\n",
    "print('Y :',y)\n",
    "\n"
   ]
  },
  {
   "cell_type": "markdown",
   "id": "8a299b91",
   "metadata": {},
   "source": [
    "2. Create a program that calculates the area of a rectangle. Take the length and\n",
    "width as inputs from the user and store them in variables. Calculate and\n",
    "display the area.\n",
    "\n"
   ]
  },
  {
   "cell_type": "code",
   "execution_count": 20,
   "id": "4d285e76",
   "metadata": {},
   "outputs": [
    {
     "name": "stdout",
     "output_type": "stream",
     "text": [
      "Area of Rectangle : 96\n"
     ]
    }
   ],
   "source": [
    "height=12\n",
    "width=8\n",
    "#area of rectangle\n",
    "area=height*width\n",
    "print('Area of Rectangle :',area)\n",
    "\n",
    "\n"
   ]
  },
  {
   "cell_type": "code",
   "execution_count": 10,
   "id": "1a46406c",
   "metadata": {},
   "outputs": [
    {
     "name": "stdout",
     "output_type": "stream",
     "text": [
      "12.2\n",
      "4.1\n",
      "Area of rectangle:  50.019999999999996\n"
     ]
    }
   ],
   "source": [
    "#user input\n",
    "h=float(input())\n",
    "w=float(input())\n",
    "area=h*w\n",
    "print('Area of rectangle: ',str(area))\n",
    "\n"
   ]
  },
  {
   "cell_type": "markdown",
   "id": "fe16b0dd",
   "metadata": {},
   "source": [
    "3. Write a Python program that converts temperatures from Celsius to\n",
    "Fahrenheit. Take the temperature in Celsius as input, store it in a variable,\n",
    "convert it to Fahrenheit, and display the result.\n"
   ]
  },
  {
   "cell_type": "code",
   "execution_count": 9,
   "id": "2a2918d4",
   "metadata": {},
   "outputs": [
    {
     "name": "stdout",
     "output_type": "stream",
     "text": [
      "43\n",
      "Temp in Fahrenheit : 109.4\n"
     ]
    }
   ],
   "source": [
    "c=float(input()) #in celsius\n",
    "#formula\n",
    "#f=c*(9/5)+32 \n",
    "f=(c*1.8)+32\n",
    "print('Temp in Fahrenheit :',f)\n",
    "\n"
   ]
  },
  {
   "cell_type": "markdown",
   "id": "0570c1c0",
   "metadata": {},
   "source": [
    "# String Based Questions"
   ]
  },
  {
   "cell_type": "markdown",
   "id": "a8d04629",
   "metadata": {},
   "source": [
    "1. Write a Python program that takes a string as input and prints the length of\n",
    "the string.\n",
    "\n",
    "\n",
    "\n",
    "\n"
   ]
  },
  {
   "cell_type": "code",
   "execution_count": 8,
   "id": "ea24ea7b",
   "metadata": {},
   "outputs": [
    {
     "name": "stdout",
     "output_type": "stream",
     "text": [
      "27\n",
      "this is \n",
      "8\n"
     ]
    }
   ],
   "source": [
    "string1='This is my first assignmnet'\n",
    "length=len(string1)\n",
    "print(length)\n",
    "\n",
    "str1=str(input())\n",
    "print(len(str1))"
   ]
  },
  {
   "cell_type": "markdown",
   "id": "7e04531e",
   "metadata": {},
   "source": [
    "2. Create a program that takes a sentence from the user and counts the number\n",
    "of vowels (a, e, i, o, u) in the string.\n"
   ]
  },
  {
   "cell_type": "code",
   "execution_count": 7,
   "id": "36629e89",
   "metadata": {},
   "outputs": [
    {
     "name": "stdout",
     "output_type": "stream",
     "text": [
      "helo this is me\n",
      "No of vowels : 5\n"
     ]
    }
   ],
   "source": [
    "sentence=str(input())\n",
    "vowels='aeiouAEIOU'\n",
    "c=sum(sentence.count(vowel) for vowel in vowels)\n",
    "print('No of vowels :',c)\n"
   ]
  },
  {
   "cell_type": "markdown",
   "id": "a7653b58",
   "metadata": {},
   "source": [
    "3. Given a string, reverse the order of characters using string slicing and print\n",
    "the reversed string."
   ]
  },
  {
   "cell_type": "code",
   "execution_count": 6,
   "id": "574c7a85",
   "metadata": {},
   "outputs": [
    {
     "data": {
      "text/plain": [
       "'sllikswp'"
      ]
     },
     "execution_count": 6,
     "metadata": {},
     "output_type": "execute_result"
    }
   ],
   "source": [
    "string1=\"pwskills\"\n",
    "string1[::-1]"
   ]
  },
  {
   "cell_type": "markdown",
   "id": "e3afae38",
   "metadata": {},
   "source": [
    "4. Write a program that takes a string as input and checks if it is a palindrome\n",
    "(reads the same forwards and backwards).\n",
    "\n"
   ]
  },
  {
   "cell_type": "code",
   "execution_count": 4,
   "id": "4f8689a5",
   "metadata": {},
   "outputs": [
    {
     "name": "stdout",
     "output_type": "stream",
     "text": [
      "Palindrome\n"
     ]
    }
   ],
   "source": [
    "string_name=\"naman\"\n",
    "reverseString=string_name[::-1]\n",
    "if string_name == reverseString:\n",
    "    print(\"Palindrome\")\n",
    "else:\n",
    "    print(\"Not Palindrome\")"
   ]
  },
  {
   "cell_type": "markdown",
   "id": "441effbe",
   "metadata": {},
   "source": [
    "5.Create a program that takes a string as input and removes all the spaces from it. Print the modified string without spaces.\n",
    "\n"
   ]
  },
  {
   "cell_type": "code",
   "execution_count": 5,
   "id": "9a84e303",
   "metadata": {},
   "outputs": [
    {
     "name": "stdout",
     "output_type": "stream",
     "text": [
      "h e l l o\n"
     ]
    },
    {
     "data": {
      "text/plain": [
       "'hello'"
      ]
     },
     "execution_count": 5,
     "metadata": {},
     "output_type": "execute_result"
    }
   ],
   "source": [
    "string2=str(input())\n",
    "string2.replace(\" \",\"\")"
   ]
  }
 ],
 "metadata": {
  "kernelspec": {
   "display_name": "Python 3 (ipykernel)",
   "language": "python",
   "name": "python3"
  },
  "language_info": {
   "codemirror_mode": {
    "name": "ipython",
    "version": 3
   },
   "file_extension": ".py",
   "mimetype": "text/x-python",
   "name": "python",
   "nbconvert_exporter": "python",
   "pygments_lexer": "ipython3",
   "version": "3.10.9"
  }
 },
 "nbformat": 4,
 "nbformat_minor": 5
}
